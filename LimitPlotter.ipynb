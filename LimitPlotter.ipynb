{
 "cells": [
  {
   "cell_type": "code",
   "execution_count": 1,
   "id": "abc5fe47",
   "metadata": {},
   "outputs": [
    {
     "name": "stdout",
     "output_type": "stream",
     "text": [
      "Welcome to JupyROOT 6.28/04\n"
     ]
    }
   ],
   "source": [
    "import ROOT\n",
    "import os,json\n",
    "import ATLAS_table as ATLAS"
   ]
  },
  {
   "cell_type": "code",
   "execution_count": 2,
   "id": "b67f4d77",
   "metadata": {},
   "outputs": [
    {
     "data": {
      "text/plain": [
       "[('SR1', 'HTlep>200', 200, 2000, 'HTlep'),\n",
       " ('SR2', 'HTlep>500', 500, 2000, 'HTlep'),\n",
       " ('SR3', 'HTlep>800', 800, 2000, 'HTlep'),\n",
       " ('SR4', 'PTmin>50', 50, 2000, 'pTmin'),\n",
       " ('SR5', 'PTmin>100', 100, 2000, 'pTmin'),\n",
       " ('SR6', 'PTmin>150', 150, 2000, 'pTmin'),\n",
       " ('SR7', 'MET>0 & HTjets<150', 0, 2000, 'MET_HTb150'),\n",
       " ('SR8', 'MET>100 & HTjets<150', 100, 2000, 'MET_HTb150'),\n",
       " ('SR9', 'MET>200 & HTjets<150', 200, 2000, 'MET_HTb150'),\n",
       " ('SR10', 'MET>300 & HTjets<150', 300, 2000, 'MET_HTb150'),\n",
       " ('SR11', 'MET>0 & HTjets>150', 0, 2000, 'MET_HTa150'),\n",
       " ('SR12', 'MET>100 & HTjets>150', 100, 2000, 'MET_HTa150'),\n",
       " ('SR13', 'MET>200 & HTjets>150', 200, 2000, 'MET_HTa150'),\n",
       " ('SR14', 'MET>300 & HTjets>150', 300, 2000, 'MET_HTa150'),\n",
       " ('SR15', 'Meff>600', 600, 2000, 'Meff'),\n",
       " ('SR16', 'Meff>1000', 1000, 2000, 'Meff'),\n",
       " ('SR17', 'Meff>1500', 1500, 2000, 'Meff'),\n",
       " ('SR18', 'Meff>0 & MET>100', 0, 2000, 'Meff_METa100'),\n",
       " ('SR19', 'Meff>600 & MET>100', 600, 2000, 'Meff_METa100'),\n",
       " ('SR20', 'Meff>1200 & MET>100', 1200, 2000, 'Meff_METa100')]"
      ]
     },
     "execution_count": 2,
     "metadata": {},
     "output_type": "execute_result"
    }
   ],
   "source": [
    "\n",
    "ATLAS.SignalRegion\n"
   ]
  },
  {
   "cell_type": "code",
   "execution_count": 3,
   "id": "67c69215",
   "metadata": {},
   "outputs": [
    {
     "name": "stdout",
     "output_type": "stream",
     "text": [
      "{'SR1': 'HTlep>200', 'SR2': 'HTlep>500', 'SR3': 'HTlep>800', 'SR4': 'PTmin>50', 'SR5': 'PTmin>100', 'SR6': 'PTmin>150', 'SR7': 'MET>0 & HTjets<150', 'SR8': 'MET>100 & HTjets<150', 'SR9': 'MET>200 & HTjets<150', 'SR10': 'MET>300 & HTjets<150', 'SR11': 'MET>0 & HTjets>150', 'SR12': 'MET>100 & HTjets>150', 'SR13': 'MET>200 & HTjets>150', 'SR14': 'MET>300 & HTjets>150', 'SR15': 'Meff>600', 'SR16': 'Meff>1000', 'SR17': 'Meff>1500', 'SR18': 'Meff>0 & MET>100', 'SR19': 'Meff>600 & MET>100', 'SR20': 'Meff>1200 & MET>100'}\n"
     ]
    }
   ],
   "source": [
    "ATLAS_SR={}\n",
    "for item in ATLAS.SignalRegion:    \n",
    "    ATLAS_SR[item[0]]=item[1]\n",
    "\n",
    "print(ATLAS_SR)    "
   ]
  },
  {
   "cell_type": "code",
   "execution_count": null,
   "id": "ee13ae45",
   "metadata": {},
   "outputs": [],
   "source": []
  },
  {
   "cell_type": "code",
   "execution_count": 4,
   "id": "67211b49",
   "metadata": {},
   "outputs": [],
   "source": [
    "def get_limits(filename,mass,SR):\n",
    "    with open(filename,'r') as infile:\n",
    "        limit_results = json.load(infile)\n",
    "            \n",
    "        limits=[]\n",
    "        median   = limit_results[f'{SR}_nom__Mass{mass}'][f'{mass}'][1]\n",
    "        theory   = limit_results[f'{SR}_nom__Mass{mass}'][f'{mass}'][2]\n",
    "        uncUp    = limit_results[f'{SR}_up__Mass{mass}'][f'{mass}'][1]\n",
    "        uncDown  = limit_results[f'{SR}_down__Mass{mass}'][f'{mass}'][1]        \n",
    "\n",
    "        limits.extend([median,uncUp,uncDown,theory])\n",
    "        \n",
    "        return limits\n",
    "        \n",
    "        \n",
    "def get_UpperLimit(values,SR):\n",
    "    \n",
    "    labels=[f'M{i}' for i in values]\n",
    "    \n",
    "    \n",
    "    N = len(labels)\n",
    "    unc     = ROOT.TGraph(2*N)     # unc\n",
    "    median  = ROOT.TGraph(N)       # median\n",
    "    theory  = ROOT.TGraph(N)       # theory\n",
    "        \n",
    "    \n",
    "    upperLimit=[]\n",
    "    \n",
    "    for i in range(N):\n",
    "        \n",
    "        mass = values[i]\n",
    "        \n",
    "        limit = get_limits(f'LimitOutput/VLLTau_M{mass}.json',mass,SR)\n",
    "        #print(mass, limit)\n",
    "        \n",
    "        median.SetPoint(    i,    values[i], limit[0]) # median\n",
    "        unc.SetPoint(       i,    values[i], limit[1]) # s+ds\n",
    "        unc.SetPoint( 2*N-1-i,    values[i], limit[2]) # s-ds\n",
    "        theory.SetPoint(    i,    values[i], limit[3]) #theory\n",
    "        \n",
    "        \n",
    "    upperLimit.extend([median,unc,theory])\n",
    "    \n",
    "    \n",
    "    return upperLimit\n",
    "\n",
    "\n",
    "\n",
    "\n",
    "\n",
    "def plot_limit(limit):    \n",
    "    \n",
    "    #Canvas\n",
    "    W = 1000\n",
    "    H = 800\n",
    "    T = 0.08*H\n",
    "    B = 0.12*H\n",
    "    L = 0.15*W\n",
    "    R = 0.25*W\n",
    "    c = ROOT.TCanvas(\"c\",\"c\",100,100,W,H)\n",
    "    c.SetFillColor(0)\n",
    "    c.SetBorderMode(0)\n",
    "    c.SetFrameFillStyle(0)\n",
    "    c.SetFrameBorderMode(0)\n",
    "    c.SetLeftMargin( L/W )\n",
    "    c.SetRightMargin( R/W )\n",
    "    c.SetTopMargin( T/H )\n",
    "    c.SetBottomMargin( B/H )\n",
    "    c.SetTickx(0)\n",
    "    c.SetTicky(0)\n",
    "    c.SetLogy(1)\n",
    "    c.cd()\n",
    "    \n",
    "    ##frame\n",
    "    frame = c.DrawFrame(1.4,0.001, 3.1, 10)\n",
    "    frame.GetYaxis().CenterTitle()\n",
    "    frame.GetYaxis().SetTitleSize(0.04)\n",
    "    frame.GetXaxis().SetTitleSize(0.04)\n",
    "    frame.GetXaxis().SetLabelSize(0.03)\n",
    "    frame.GetYaxis().SetLabelSize(0.03)\n",
    "    frame.GetXaxis().SetTitleOffset(1.2)\n",
    "    frame.GetYaxis().SetTitleOffset(1.4)\n",
    "    frame.GetXaxis().SetNdivisions(510)\n",
    "    #frame.GetYaxis().CenterTitle(True)\n",
    "    frame.GetYaxis().SetTitle(\"#sigma (pb)\")\n",
    "    frame.GetXaxis().SetTitle(\"m_{VLL} (GeV)\")\n",
    "    frame.SetMinimum(0.005)\n",
    "    #frame.SetMaximum(max(up2s)*1.05)\n",
    "    frame.SetMaximum(1000)\n",
    "    frame.GetXaxis().SetLimits(50,300)\n",
    "    \n",
    "    \n",
    "    x1 = 0.75\n",
    "    x2 = x1 + 0.24\n",
    "    y2 = 0.85\n",
    "    y1 = 0.35\n",
    "    legend =ROOT.TLegend(x1,y1,x2,y2)\n",
    "    legend.SetFillStyle(0);legend.SetBorderSize(0);legend.SetTextSize(0.02);\n",
    "    legend.SetTextAlign(12);legend.SetTextFont(42)\n",
    "    #legend.SetHeader('95% CL upper limits')\n",
    "    #legend.AddEntry(median,\"observed\",'L')\n",
    "    #legend.AddEntry(unc   ,\"Uncertainty\",'f')\n",
    "    \n",
    "    for i,SR in enumerate(limit.keys()):\n",
    "            \n",
    "        median = limit[SR][0]\n",
    "        unc    = limit[SR][1]    \n",
    "    \n",
    "        ##\n",
    "        unc.SetFillColor(ROOT.kOrange)\n",
    "        unc.SetLineColor(ROOT.kOrange)\n",
    "        unc.SetFillStyle(1001)\n",
    "    \n",
    "        median.SetLineColor(i+1)\n",
    "        median.SetLineWidth(2)\n",
    "        median.SetLineStyle(1)\n",
    "        median.SetMarkerStyle(20)\n",
    "        median.SetMarkerSize(0.6)\n",
    "        median.SetMarkerColor(i+1)\n",
    "        \n",
    "        if(i==0):\n",
    "            median.Draw('LP')\n",
    "            #unc.Draw('F')\n",
    "        else:\n",
    "            median.Draw('LPSAME')\n",
    "            #unc.Draw('FSAME')\n",
    "            \n",
    "            \n",
    "        legend.AddEntry(median,f\"{SR}:{ATLAS_SR[SR]}\",'L')    \n",
    "    \n",
    "    theory = limit[SR][2]\n",
    "    legend.AddEntry(theory,\"Theory xsec\",'f')\n",
    "    #theoryxsec\n",
    "    theory.SetLineColor(ROOT.kRed)\n",
    "    theory.SetFillColor(ROOT.kRed-9)\n",
    "    theory.SetLineWidth(2)\n",
    "    theory.SetLineStyle(1)\n",
    "    theory.SetMarkerStyle(1)\n",
    "    theory.Draw('L')\n",
    "    \n",
    "    ##\n",
    "    ROOT.gPad.SetTicks(1,1)\n",
    "    frame.Draw('sameaxis')\n",
    "    \n",
    "\n",
    "    legend.Draw()\n",
    "    \n",
    "    \n",
    "    c.SaveAs(\"test_limit.pdf\")\n",
    "    c.Close()\n",
    "    \n",
    "    "
   ]
  },
  {
   "cell_type": "code",
   "execution_count": null,
   "id": "a56b0bb4",
   "metadata": {},
   "outputs": [],
   "source": []
  },
  {
   "cell_type": "code",
   "execution_count": 5,
   "id": "7a7544f5",
   "metadata": {},
   "outputs": [],
   "source": [
    "values=[100,150,200,250]\n",
    "\n",
    "SR=[f'SR{i}' for i in range (1,21)]\n",
    "\n",
    "upperLimit={}\n",
    "for sr in SR:\n",
    "    upperLimit[sr] = get_UpperLimit(values,sr)"
   ]
  },
  {
   "cell_type": "code",
   "execution_count": 6,
   "id": "2ae84f44",
   "metadata": {},
   "outputs": [
    {
     "data": {
      "text/plain": [
       "{'SR1': [<cppyy.gbl.TGraph object at 0xbbb2e60>,\n",
       "  <cppyy.gbl.TGraph object at 0xad42f00>,\n",
       "  <cppyy.gbl.TGraph object at 0xb99b570>],\n",
       " 'SR2': [<cppyy.gbl.TGraph object at 0xbc30ea0>,\n",
       "  <cppyy.gbl.TGraph object at 0x82755d0>,\n",
       "  <cppyy.gbl.TGraph object at 0xba6f490>],\n",
       " 'SR3': [<cppyy.gbl.TGraph object at 0xbb8d1a0>,\n",
       "  <cppyy.gbl.TGraph object at 0xba71270>,\n",
       "  <cppyy.gbl.TGraph object at 0xbc6f240>],\n",
       " 'SR4': [<cppyy.gbl.TGraph object at 0xbc4d010>,\n",
       "  <cppyy.gbl.TGraph object at 0x839c6d0>,\n",
       "  <cppyy.gbl.TGraph object at 0xbc29c00>],\n",
       " 'SR5': [<cppyy.gbl.TGraph object at 0xba6e550>,\n",
       "  <cppyy.gbl.TGraph object at 0xbc4aae0>,\n",
       "  <cppyy.gbl.TGraph object at 0xbc45c50>],\n",
       " 'SR6': [<cppyy.gbl.TGraph object at 0xbc5eac0>,\n",
       "  <cppyy.gbl.TGraph object at 0xbc45ad0>,\n",
       "  <cppyy.gbl.TGraph object at 0xbbbb940>],\n",
       " 'SR7': [<cppyy.gbl.TGraph object at 0xad42410>,\n",
       "  <cppyy.gbl.TGraph object at 0xbc769e0>,\n",
       "  <cppyy.gbl.TGraph object at 0xb97e580>],\n",
       " 'SR8': [<cppyy.gbl.TGraph object at 0xbba6700>,\n",
       "  <cppyy.gbl.TGraph object at 0x205cbf0>,\n",
       "  <cppyy.gbl.TGraph object at 0xbb8c380>],\n",
       " 'SR9': [<cppyy.gbl.TGraph object at 0xbb9c990>,\n",
       "  <cppyy.gbl.TGraph object at 0xba6f5a0>,\n",
       "  <cppyy.gbl.TGraph object at 0xba52a00>],\n",
       " 'SR10': [<cppyy.gbl.TGraph object at 0xbc38040>,\n",
       "  <cppyy.gbl.TGraph object at 0xbb8ddf0>,\n",
       "  <cppyy.gbl.TGraph object at 0xba6f280>],\n",
       " 'SR11': [<cppyy.gbl.TGraph object at 0xb814190>,\n",
       "  <cppyy.gbl.TGraph object at 0xbbcb7e0>,\n",
       "  <cppyy.gbl.TGraph object at 0xb2f0920>],\n",
       " 'SR12': [<cppyy.gbl.TGraph object at 0x4b36c00>,\n",
       "  <cppyy.gbl.TGraph object at 0xba5c3f0>,\n",
       "  <cppyy.gbl.TGraph object at 0x82c8020>],\n",
       " 'SR13': [<cppyy.gbl.TGraph object at 0xba70560>,\n",
       "  <cppyy.gbl.TGraph object at 0xbc4dba0>,\n",
       "  <cppyy.gbl.TGraph object at 0xba006c0>],\n",
       " 'SR14': [<cppyy.gbl.TGraph object at 0xbc71690>,\n",
       "  <cppyy.gbl.TGraph object at 0x83b62b0>,\n",
       "  <cppyy.gbl.TGraph object at 0xb2f47c0>],\n",
       " 'SR15': [<cppyy.gbl.TGraph object at 0xbba94d0>,\n",
       "  <cppyy.gbl.TGraph object at 0xba33670>,\n",
       "  <cppyy.gbl.TGraph object at 0xba56ed0>],\n",
       " 'SR16': [<cppyy.gbl.TGraph object at 0xbc569e0>,\n",
       "  <cppyy.gbl.TGraph object at 0xbc25de0>,\n",
       "  <cppyy.gbl.TGraph object at 0xbb8ca10>],\n",
       " 'SR17': [<cppyy.gbl.TGraph object at 0xbc27ac0>,\n",
       "  <cppyy.gbl.TGraph object at 0xbc275b0>,\n",
       "  <cppyy.gbl.TGraph object at 0xbc75250>],\n",
       " 'SR18': [<cppyy.gbl.TGraph object at 0xbb8eaa0>,\n",
       "  <cppyy.gbl.TGraph object at 0xbbcb200>,\n",
       "  <cppyy.gbl.TGraph object at 0xbb8ec20>],\n",
       " 'SR19': [<cppyy.gbl.TGraph object at 0xb807880>,\n",
       "  <cppyy.gbl.TGraph object at 0xbc5de20>,\n",
       "  <cppyy.gbl.TGraph object at 0xbbcbc80>],\n",
       " 'SR20': [<cppyy.gbl.TGraph object at 0xbbdfe10>,\n",
       "  <cppyy.gbl.TGraph object at 0xbbdfc50>,\n",
       "  <cppyy.gbl.TGraph object at 0xbc77400>]}"
      ]
     },
     "execution_count": 6,
     "metadata": {},
     "output_type": "execute_result"
    }
   ],
   "source": [
    "upperLimit"
   ]
  },
  {
   "cell_type": "code",
   "execution_count": 7,
   "id": "eb0579d2",
   "metadata": {},
   "outputs": [
    {
     "name": "stderr",
     "output_type": "stream",
     "text": [
      "Info in <TCanvas::Print>: pdf file test_limit.pdf has been created\n"
     ]
    }
   ],
   "source": [
    "plot_limit(upperLimit)"
   ]
  },
  {
   "cell_type": "code",
   "execution_count": null,
   "id": "2af91bd2",
   "metadata": {},
   "outputs": [],
   "source": []
  },
  {
   "cell_type": "code",
   "execution_count": 9,
   "id": "436a85e6",
   "metadata": {},
   "outputs": [
    {
     "data": {
      "text/plain": [
       "'VLEsing250'"
      ]
     },
     "execution_count": 9,
     "metadata": {},
     "output_type": "execute_result"
    }
   ],
   "source": [
    "model = 'hst_VLEsing250_8TeV_200k.root'\n",
    "\n",
    "model.split('_')[1]"
   ]
  },
  {
   "cell_type": "code",
   "execution_count": null,
   "id": "0646c1c6",
   "metadata": {},
   "outputs": [],
   "source": []
  }
 ],
 "metadata": {
  "kernelspec": {
   "display_name": "Python 3 (ipykernel)",
   "language": "python",
   "name": "python3"
  },
  "language_info": {
   "codemirror_mode": {
    "name": "ipython",
    "version": 3
   },
   "file_extension": ".py",
   "mimetype": "text/x-python",
   "name": "python",
   "nbconvert_exporter": "python",
   "pygments_lexer": "ipython3",
   "version": "3.8.17"
  }
 },
 "nbformat": 4,
 "nbformat_minor": 5
}
