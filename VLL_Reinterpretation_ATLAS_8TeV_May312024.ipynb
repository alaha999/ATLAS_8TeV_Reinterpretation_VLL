{
 "cells": [
  {
   "cell_type": "code",
   "execution_count": 1,
   "id": "4b013644",
   "metadata": {},
   "outputs": [
    {
     "name": "stdout",
     "output_type": "stream",
     "text": [
      "Welcome to JupyROOT 6.28/04\n"
     ]
    }
   ],
   "source": [
    "import ROOT"
   ]
  },
  {
   "cell_type": "code",
   "execution_count": null,
   "id": "71992aeb",
   "metadata": {},
   "outputs": [],
   "source": []
  },
  {
   "cell_type": "code",
   "execution_count": 2,
   "id": "fb118757",
   "metadata": {},
   "outputs": [],
   "source": [
    "#category:\n",
    "#3L OSSF OnZ, 3L OSSF offZ and 3L NoOSSF\n",
    "#2L1T OSSF OnZ, 2L1T OSSF offZ and 2L1T NoOSSF"
   ]
  },
  {
   "cell_type": "code",
   "execution_count": 3,
   "id": "796d2bcb",
   "metadata": {},
   "outputs": [],
   "source": [
    "filename = 'Histograms/hst_vllsing100_8TeV_200k.root'\n",
    "filename = 'Histograms/hst_VLEsing200_8TeV_200k.root'"
   ]
  },
  {
   "cell_type": "code",
   "execution_count": 4,
   "id": "0638c4d3",
   "metadata": {},
   "outputs": [],
   "source": [
    "rf = ROOT.TFile.Open(filename,'READ')"
   ]
  },
  {
   "cell_type": "code",
   "execution_count": 5,
   "id": "b3287cb6",
   "metadata": {},
   "outputs": [
    {
     "name": "stdout",
     "output_type": "stream",
     "text": [
      "TFile**\t\tHistograms/hst_VLEsing200_8TeV_200k.root\t\n",
      " TFile*\t\tHistograms/hst_VLEsing200_8TeV_200k.root\t\n",
      "  KEY: TH1F\tnmuons;1\tNumber of Muons\n",
      "  KEY: TH1F\tnelecs;1\tNumber of ELectronss\n",
      "  KEY: TH1F\tnleps;1\tNumber of light leptons\n",
      "  KEY: TH1F\tnrecolep;1\tlight leptons that can be reconstructed\n",
      "  KEY: TH1F\tnrecoTau;1\ttaus that can be reconstructed\n",
      "  KEY: TH1F\tnNu;1\tNumber of Nu\n",
      "  KEY: TH1F\tntau;1\tNumber of taus\n",
      "  KEY: TH1F\tn3Lev;1\tNumber of 3L events\n",
      "  KEY: TH1F\tn2L1Tev;1\tNumber of 2L1T events\n",
      "  KEY: TH1F\t3L_onZ_HTlep;1\t3L_onZ_HTlep\n",
      "  KEY: TH1F\t3L_onZ_pTmin;1\t3L_onZ_pTmin\n",
      "  KEY: TH1F\t3L_onZ_MET_HTb150;1\t3L_onZ_MET_HTb150\n",
      "  KEY: TH1F\t3L_onZ_MET_HTa150;1\t3L_onZ_MET_HTa150\n",
      "  KEY: TH1F\t3L_onZ_Meff;1\t3L_onZ_Meff\n",
      "  KEY: TH1F\t3L_onZ_Meff_METa100;1\t3L_onZ_Meff_METa100\n",
      "  KEY: TH1F\t3L_onZ_enwt;1\t3L_onZ_enwt\n",
      "  KEY: TH1F\t3L_offZ_HTlep;1\t3L_offZ_HTlep\n",
      "  KEY: TH1F\t3L_offZ_pTmin;1\t3L_offZ_pTmin\n",
      "  KEY: TH1F\t3L_offZ_MET_HTb150;1\t3L_offZ_MET_HTb150\n",
      "  KEY: TH1F\t3L_offZ_MET_HTa150;1\t3L_offZ_MET_HTa150\n",
      "  KEY: TH1F\t3L_offZ_Meff;1\t3L_offZ_Meff\n",
      "  KEY: TH1F\t3L_offZ_Meff_METa100;1\t3L_offZ_Meff_METa100\n",
      "  KEY: TH1F\t3L_offZ_enwt;1\t3L_offZ_enwt\n",
      "  KEY: TH1F\t 3L_noOOSF_HTlep;1\t 3L_noOOSF_HTlep\n",
      "  KEY: TH1F\t 3L_noOOSF_pTmin;1\t 3L_noOOSF_pTmin\n",
      "  KEY: TH1F\t 3L_noOOSF_MET_HTb150;1\t 3L_noOOSF_MET_HTb150\n",
      "  KEY: TH1F\t 3L_noOOSF_MET_HTa150;1\t 3L_noOOSF_MET_HTa150\n",
      "  KEY: TH1F\t 3L_noOOSF_Meff;1\t 3L_noOOSF_Meff\n",
      "  KEY: TH1F\t 3L_noOOSF_Meff_METa100;1\t 3L_noOOSF_Meff_METa100\n",
      "  KEY: TH1F\t 3L_noOOSF_enwt;1\t 3L_noOOSF_enwt\n",
      "  KEY: TH1F\t2L1T_onZ_HTlep;1\t2L1T_onZ_HTlep\n",
      "  KEY: TH1F\t2L1T_onZ_pTmin;1\t2L1T_onZ_pTmin\n",
      "  KEY: TH1F\t2L1T_onZ_MET_HTb150;1\t2L1T_onZ_MET_HTb150\n",
      "  KEY: TH1F\t2L1T_onZ_MET_HTa150;1\t2L1T_onZ_MET_HTa150\n",
      "  KEY: TH1F\t2L1T_onZ_Meff;1\t2L1T_onZ_Meff\n",
      "  KEY: TH1F\t2L1T_onZ_Meff_METa100;1\t2L1T_onZ_Meff_METa100\n",
      "  KEY: TH1F\t2L1T_onZ_enwt;1\t2L1T_onZ_enwt\n",
      "  KEY: TH1F\t2L1T_offZ_HTlep;1\t2L1T_offZ_HTlep\n",
      "  KEY: TH1F\t2L1T_offZ_pTmin;1\t2L1T_offZ_pTmin\n",
      "  KEY: TH1F\t2L1T_offZ_MET_HTb150;1\t2L1T_offZ_MET_HTb150\n",
      "  KEY: TH1F\t2L1T_offZ_MET_HTa150;1\t2L1T_offZ_MET_HTa150\n",
      "  KEY: TH1F\t2L1T_offZ_Meff;1\t2L1T_offZ_Meff\n",
      "  KEY: TH1F\t2L1T_offZ_Meff_METa100;1\t2L1T_offZ_Meff_METa100\n",
      "  KEY: TH1F\t2L1T_offZ_enwt;1\t2L1T_offZ_enwt\n",
      "  KEY: TH1F\t2L1T_noOOSF_HTlep;1\t2L1T_noOOSF_HTlep\n",
      "  KEY: TH1F\t2L1T_noOOSF_pTmin;1\t2L1T_noOOSF_pTmin\n",
      "  KEY: TH1F\t2L1T_noOOSF_MET_HTb150;1\t2L1T_noOOSF_MET_HTb150\n",
      "  KEY: TH1F\t2L1T_noOOSF_MET_HTa150;1\t2L1T_noOOSF_MET_HTa150\n",
      "  KEY: TH1F\t2L1T_noOOSF_Meff;1\t2L1T_noOOSF_Meff\n",
      "  KEY: TH1F\t2L1T_noOOSF_Meff_METa100;1\t2L1T_noOOSF_Meff_METa100\n",
      "  KEY: TH1F\t2L1T_noOOSF_enwt;1\t2L1T_noOOSF_enwt\n"
     ]
    }
   ],
   "source": [
    "rf.ls()"
   ]
  },
  {
   "cell_type": "code",
   "execution_count": 6,
   "id": "ff35fc0e",
   "metadata": {},
   "outputs": [],
   "source": [
    "Category = ['3L_onZ','3L_offZ',' 3L_noOOSF','2L1T_onZ','2L1T_offZ','2L1T_noOOSF']\n",
    "Variable = ['HTlep','pTmin','MET_HTb150','MET_HTa150','Meff','Meff_METa100']\n",
    "\n",
    "histNames = []\n",
    "\n",
    "for cat in Category:\n",
    "    for var in Variable:\n",
    "        histNames.append(f'{cat}_{var}')\n"
   ]
  },
  {
   "cell_type": "code",
   "execution_count": 7,
   "id": "4961e56a",
   "metadata": {},
   "outputs": [
    {
     "name": "stdout",
     "output_type": "stream",
     "text": [
      "Hist Integral: 3L_onZ_HTlep = 1752.9680792093277\n",
      "Hist Integral: 3L_onZ_pTmin = 1751.8579043745995\n",
      "Hist Integral: 3L_onZ_MET_HTb150 = 22.13420057296753\n",
      "Hist Integral: 3L_onZ_MET_HTa150 = 1729.779446721077\n",
      "Hist Integral: 3L_onZ_Meff = 1748.7172684939578\n",
      "Hist Integral: 3L_onZ_Meff_METa100 = 505.54765268601477\n",
      "Hist Integral: 3L_offZ_HTlep = 1715.2568885684013\n",
      "Hist Integral: 3L_offZ_pTmin = 1713.819756448269\n",
      "Hist Integral: 3L_offZ_MET_HTb150 = 14.467533737421036\n",
      "Hist Integral: 3L_offZ_MET_HTa150 = 1697.475970864296\n",
      "Hist Integral: 3L_offZ_Meff = 1706.4960088729858\n",
      "Hist Integral: 3L_offZ_Meff_METa100 = 336.9856163561344\n",
      "Hist Integral:  3L_noOOSF_HTlep = 135.10624730587006\n",
      "Hist Integral:  3L_noOOSF_pTmin = 135.1062472462654\n",
      "Hist Integral:  3L_noOOSF_MET_HTb150 = 8.028660118579865\n",
      "Hist Integral:  3L_noOOSF_MET_HTa150 = 126.28200140595436\n",
      "Hist Integral:  3L_noOOSF_Meff = 134.31065914034843\n",
      "Hist Integral:  3L_noOOSF_Meff_METa100 = 51.08279371261597\n",
      "Hist Integral: 2L1T_onZ_HTlep = 5.927103344351053\n",
      "Hist Integral: 2L1T_onZ_pTmin = 5.927103120833635\n",
      "Hist Integral: 2L1T_onZ_MET_HTb150 = 0.7014348581433296\n",
      "Hist Integral: 2L1T_onZ_MET_HTa150 = 5.225668452680111\n",
      "Hist Integral: 2L1T_onZ_Meff = 5.927103325724602\n",
      "Hist Integral: 2L1T_onZ_Meff_METa100 = 1.678673855960369\n",
      "Hist Integral: 2L1T_offZ_HTlep = 23.067207070998847\n",
      "Hist Integral: 2L1T_offZ_pTmin = 21.43065495789051\n",
      "Hist Integral: 2L1T_offZ_MET_HTb150 = 0.8950834609568119\n",
      "Hist Integral: 2L1T_offZ_MET_HTa150 = 22.172123607248068\n",
      "Hist Integral: 2L1T_offZ_Meff = 22.448649793863297\n",
      "Hist Integral: 2L1T_offZ_Meff_METa100 = 7.641153920441866\n",
      "Hist Integral: 2L1T_noOOSF_HTlep = 22.191183637827635\n",
      "Hist Integral: 2L1T_noOOSF_pTmin = 21.63727268576622\n",
      "Hist Integral: 2L1T_noOOSF_MET_HTb150 = 2.0721295662224293\n",
      "Hist Integral: 2L1T_noOOSF_MET_HTa150 = 20.65613630786538\n",
      "Hist Integral: 2L1T_noOOSF_Meff = 22.191183660179377\n",
      "Hist Integral: 2L1T_noOOSF_Meff_METa100 = 9.636087320744991\n"
     ]
    }
   ],
   "source": [
    "rootHist={}\n",
    "\n",
    "for hname in histNames:\n",
    "    h = rf.Get(hname)\n",
    "    rootHist[hname] = rf.Get(hname)\n",
    "    #print(hname)\n",
    "    print(f\"Hist Integral: {hname} = {h.Integral()}\")"
   ]
  },
  {
   "cell_type": "code",
   "execution_count": 8,
   "id": "c156917c",
   "metadata": {},
   "outputs": [],
   "source": [
    "#For a given histogram hst, return the number of entries between bin_lo and bin_hi\n",
    "#float get_nevents(TH1F *hst, float bin_lo, float bin_hi)\n",
    "#{\n",
    "#  int bin_width = hst->GetBinWidth(1);\n",
    "#  int ibin_begin = 1;\n",
    "#  float nevents = 0;\n",
    "#  while ( hst->GetBinCenter(ibin_begin) < bin_lo )\n",
    "#    ibin_begin++;\n",
    "#  int ibin_end = ibin_begin;\n",
    "#  while ( hst->GetBinCenter(ibin_end) < bin_hi )\n",
    "#    ibin_end++;\n",
    "#  for(int i=ibin_begin; i<ibin_end; i++)\n",
    "#    nevents += hst->GetBinContent(i);\n",
    "  \n",
    "#  return nevents;\n",
    "#}"
   ]
  },
  {
   "cell_type": "code",
   "execution_count": 9,
   "id": "9edd3d04",
   "metadata": {},
   "outputs": [],
   "source": [
    "def get_nevents(h,binlo,binhi):\n",
    "    binWidth = h.GetBinWidth(1)\n",
    "    ibin_begin = 0\n",
    "    nevents = 0\n",
    "    while(h.GetBinCenter(ibin_begin)< binlo):\n",
    "        ibin_begin+=1\n",
    "    \n",
    "    ibin_end = ibin_begin\n",
    "    while(h.GetBinCenter(ibin_end)<binhi):\n",
    "        ibin_end+=1\n",
    "    \n",
    "    for i in range(ibin_begin,ibin_end):\n",
    "        #print(i,ibin_begin,ibin_end)\n",
    "        nevents += h.GetBinContent(i)\n",
    "        \n",
    "        #print(h.GetNbinsX())\n",
    "        if(i>h.GetNbinsX()+1):break  ##put high no as an end value leads to high ibin_end> total bin of an\n",
    "                                     ##histogram. So, just terminate if ibin_end>total bins of hist\n",
    "        \n",
    "    return nevents    "
   ]
  },
  {
   "cell_type": "code",
   "execution_count": 10,
   "id": "83279d43",
   "metadata": {},
   "outputs": [],
   "source": [
    "#Inspect a histogram\n",
    "test_hist = rootHist['3L_onZ_HTlep'].Clone()\n"
   ]
  },
  {
   "cell_type": "code",
   "execution_count": 11,
   "id": "d9c62bbd",
   "metadata": {},
   "outputs": [],
   "source": [
    "##(SR NAME,'description',lower bound, higher bound,VariableName)\n",
    "#Category = ['3L_onZ','3L_offZ',' 3L_noOOSF','2L1T_onZ','2L1T_offZ','2L1T_noOOSF']\n",
    "#Variable = ['HTlep','pTmin','MET_HTb150','MET_HTa150','Meff','Meff_METa100']\n",
    "\n",
    "SignalRegion =[\n",
    "('SR1','HTlep>200',200,2000,'HTlep'),\n",
    "('SR2','HTlep>500',500,2000,'HTlep'),\n",
    "('SR3','HTlep>800',800,2000,'HTlep'),\n",
    "('SR4','PTmin>50' ,50 ,2000,'pTmin'),\n",
    "('SR5','PTmin>100',100,2000,'pTmin'),\n",
    "('SR6','PTmin>150',150,2000,'pTmin'),\n",
    "('SR7','MET>0 & HTjets<150',0,2000,'MET_HTb150'),\n",
    "('SR8','MET>100 & HTjets<150',100,2000,'MET_HTb150'),\n",
    "('SR9','MET>200 & HTjets<150',200,2000,'MET_HTb150'),\n",
    "('SR10','MET>300 & HTjets<150',300,2000,'MET_HTb150'),\n",
    "('SR11','MET>0 & HTjets>150',0,2000,'MET_HTa150'),\n",
    "('SR12','MET>100 & HTjets>150',100,2000,'MET_HTa150'),\n",
    "('SR13','MET>200 & HTjets>150',200,2000,'MET_HTa150'),\n",
    "('SR14','MET>300 & HTjets>150',300,2000,'MET_HTa150'),\n",
    "('SR15','Meff>600',600,2000,'Meff'),\n",
    "('SR16','Meff>1000',1000,2000,'Meff'),\n",
    "('SR17','Meff>1500',1500,2000,'Meff'),\n",
    "('SR18','Meff>0 & MET>100',0,2000,'Meff_METa100'),\n",
    "('SR19','Meff>600 & MET>100',600,2000,'Meff_METa100'),\n",
    "('SR20','Meff>1200 & MET>100',1200,2000,'Meff_METa100'),    \n",
    "]"
   ]
  },
  {
   "cell_type": "code",
   "execution_count": 12,
   "id": "3942b1d5",
   "metadata": {},
   "outputs": [],
   "source": [
    "signal={}\n",
    "for SR in SignalRegion:\n",
    "    NAME,DESC,BINLOW,BINHI,VAR = SR\n",
    "    SignalYield=[]\n",
    "    SignalYield.append(DESC)\n",
    "    \n",
    "    for cat in Category:                \n",
    "        signal[NAME]=[]\n",
    "        nSig = get_nevents(rootHist[cat+'_'+VAR],BINLOW,BINHI)\n",
    "        if(nSig<0.01):nSig=0.01\n",
    "        SignalYield.append(nSig)\n",
    "    \n",
    "    signal[NAME]=SignalYield    \n",
    "                    "
   ]
  },
  {
   "cell_type": "code",
   "execution_count": 13,
   "id": "af087801",
   "metadata": {},
   "outputs": [],
   "source": [
    "from tabulate import tabulate"
   ]
  },
  {
   "cell_type": "code",
   "execution_count": 14,
   "id": "1b739bc8",
   "metadata": {},
   "outputs": [],
   "source": [
    "def printTable(info):        \n",
    "    table=[]\n",
    "    for k,v in info.items():\n",
    "        table.append([k]+v)\n",
    "    \n",
    "    print(tabulate(table,headers=['SRName','Sel']+Category,tablefmt='grid',numalign='left',floatfmt='.2f'))                  "
   ]
  },
  {
   "cell_type": "code",
   "execution_count": 15,
   "id": "e5ebcf90",
   "metadata": {},
   "outputs": [
    {
     "name": "stdout",
     "output_type": "stream",
     "text": [
      "+----------+----------------------+----------+-----------+--------------+------------+-------------+---------------+\n",
      "| SRName   | Sel                  | 3L_onZ   | 3L_offZ   |  3L_noOOSF   | 2L1T_onZ   | 2L1T_offZ   | 2L1T_noOOSF   |\n",
      "+==========+======================+==========+===========+==============+============+=============+===============+\n",
      "| SR1      | HTlep>200            | 1052.15  | 1271.20   | 89.72        | 2.34       | 16.39       | 12.31         |\n",
      "+----------+----------------------+----------+-----------+--------------+------------+-------------+---------------+\n",
      "| SR2      | HTlep>500            | 32.68    | 71.43     | 3.03         | 0.14       | 4.28        | 3.48          |\n",
      "+----------+----------------------+----------+-----------+--------------+------------+-------------+---------------+\n",
      "| SR3      | HTlep>800            | 0.01     | 2.36      | 0.01         | 0.01       | 0.62        | 1.63          |\n",
      "+----------+----------------------+----------+-----------+--------------+------------+-------------+---------------+\n",
      "| SR4      | PTmin>50             | 446.77   | 858.70    | 61.58        | 1.71       | 15.38       | 10.58         |\n",
      "+----------+----------------------+----------+-----------+--------------+------------+-------------+---------------+\n",
      "| SR5      | PTmin>100            | 36.49    | 91.46     | 4.45         | 0.49       | 7.47        | 3.96          |\n",
      "+----------+----------------------+----------+-----------+--------------+------------+-------------+---------------+\n",
      "| SR6      | PTmin>150            | 6.78     | 13.95     | 0.80         | 0.01       | 3.51        | 3.05          |\n",
      "+----------+----------------------+----------+-----------+--------------+------------+-------------+---------------+\n",
      "| SR7      | MET>0 & HTjets<150   | 22.13    | 14.47     | 8.03         | 0.70       | 0.90        | 2.07          |\n",
      "+----------+----------------------+----------+-----------+--------------+------------+-------------+---------------+\n",
      "| SR8      | MET>100 & HTjets<150 | 4.73     | 3.82      | 2.38         | 0.01       | 0.15        | 0.16          |\n",
      "+----------+----------------------+----------+-----------+--------------+------------+-------------+---------------+\n",
      "| SR9      | MET>200 & HTjets<150 | 0.01     | 0.01      | 0.01         | 0.01       | 0.01        | 0.01          |\n",
      "+----------+----------------------+----------+-----------+--------------+------------+-------------+---------------+\n",
      "| SR10     | MET>300 & HTjets<150 | 0.01     | 0.01      | 0.01         | 0.01       | 0.01        | 0.01          |\n",
      "+----------+----------------------+----------+-----------+--------------+------------+-------------+---------------+\n",
      "| SR11     | MET>0 & HTjets>150   | 1731.89  | 1704.10   | 127.87       | 5.23       | 22.17       | 20.66         |\n",
      "+----------+----------------------+----------+-----------+--------------+------------+-------------+---------------+\n",
      "| SR12     | MET>100 & HTjets>150 | 502.89   | 340.90    | 50.30        | 1.68       | 8.11        | 10.01         |\n",
      "+----------+----------------------+----------+-----------+--------------+------------+-------------+---------------+\n",
      "| SR13     | MET>200 & HTjets>150 | 115.97   | 74.08     | 13.63        | 0.32       | 3.93        | 4.21          |\n",
      "+----------+----------------------+----------+-----------+--------------+------------+-------------+---------------+\n",
      "| SR14     | MET>300 & HTjets>150 | 28.74    | 24.47     | 5.09         | 0.23       | 2.18        | 1.82          |\n",
      "+----------+----------------------+----------+-----------+--------------+------------+-------------+---------------+\n",
      "| SR15     | Meff>600             | 977.81   | 1093.96   | 73.62        | 2.70       | 14.00       | 10.62         |\n",
      "+----------+----------------------+----------+-----------+--------------+------------+-------------+---------------+\n",
      "| SR16     | Meff>1000            | 165.48   | 242.26    | 11.86        | 0.71       | 5.64        | 3.97          |\n",
      "+----------+----------------------+----------+-----------+--------------+------------+-------------+---------------+\n",
      "| SR17     | Meff>1500            | 25.26    | 35.31     | 0.74         | 0.14       | 2.64        | 1.26          |\n",
      "+----------+----------------------+----------+-----------+--------------+------------+-------------+---------------+\n",
      "| SR18     | Meff>0 & MET>100     | 505.55   | 336.99    | 51.08        | 1.68       | 7.64        | 9.64          |\n",
      "+----------+----------------------+----------+-----------+--------------+------------+-------------+---------------+\n",
      "| SR19     | Meff>600 & MET>100   | 371.07   | 268.44    | 39.02        | 1.31       | 6.27        | 7.28          |\n",
      "+----------+----------------------+----------+-----------+--------------+------------+-------------+---------------+\n",
      "| SR20     | Meff>1200 & MET>100  | 42.41    | 46.97     | 5.14         | 0.28       | 2.25        | 2.45          |\n",
      "+----------+----------------------+----------+-----------+--------------+------------+-------------+---------------+\n"
     ]
    }
   ],
   "source": [
    " printTable(signal)"
   ]
  },
  {
   "cell_type": "code",
   "execution_count": 16,
   "id": "2f718f30",
   "metadata": {},
   "outputs": [],
   "source": [
    "#(SR,[exp],[dexp][obs])\n",
    "ATLAS_8TeV_exp_obs=[\n",
    "('SR1',[450,78,5.7,180,73,22],[50,9,1.4,50,20,6],[387])\n",
    "]"
   ]
  },
  {
   "cell_type": "code",
   "execution_count": 17,
   "id": "e14ae481",
   "metadata": {},
   "outputs": [],
   "source": [
    "## [category,SRName,bkg,(+dbkg,-dbkg),obs]\n",
    "HTlep_table=[\n",
    "(' 3L_noOOSF','SR1',5.7 ,(1.4,1.4)  ,6),\n",
    "(' 3L_noOOSF','SR2',0.22,(0.77,0.22),1),\n",
    "(' 3L_noOOSF','SR3',0.06,(0.70,0.06),0),\n",
    "('2L1T_noOOSF','SR1',22,(6,6),14),\n",
    "('2L1T_noOOSF','SR2',0.36,(0.73,0.36),0),\n",
    "('2L1T_noOOSF','SR3',0.12,(0.71,0.12),0),\n",
    "('3L_offZ','SR1',78 ,(9,9)  ,56),\n",
    "('3L_offZ','SR2',3.7,(0.9,0.9),1),\n",
    "('3L_offZ','SR3',0.5,(0.7,0.5),0),\n",
    "('2L1T_offZ','SR1',73 ,(20,20)  ,67),\n",
    "('2L1T_offZ','SR2',1.3,(0.9,0.9),0),\n",
    "('2L1T_offZ','SR3',0,(0.7,0),0),\n",
    "('3L_onZ','SR1',450 ,(50,50)  ,387),\n",
    "('3L_onZ','SR2',12.3,(2.4,2.4),12),\n",
    "('3L_onZ','SR3',1.1,(0.7,0.7),3),\n",
    "('2L1T_onZ','SR1',180 ,(50,50),148),\n",
    "('2L1T_onZ','SR2',2.0,(1.0,1.0),3),\n",
    "('2L1T_onZ','SR3',0.04,(0.71,0.04),0)\n",
    "]\n"
   ]
  },
  {
   "cell_type": "code",
   "execution_count": 18,
   "id": "5b3ea2c4",
   "metadata": {},
   "outputs": [],
   "source": [
    "def printPaperTable(info):\n",
    "    table=[]\n",
    "    for i in range(1,21):\n",
    "        cat_yield=[]\n",
    "        cat_yield.append(f'SR{i}')\n",
    "        for cat in Category:\n",
    "            for item in info:\n",
    "                a=cat+'_'+'SR'+str(i)\n",
    "                b=item[0]+'_'+item[1]\n",
    "                if a==b :\n",
    "                    #print(a,b)\n",
    "                    #cat_yield.append((f'{item[2]}+{item[3][0]}-{item[3][1]}',item[4]))\n",
    "                    cat_yield.append((f'{item[2]}',item[4]))\n",
    "                    \n",
    "        ##\n",
    "        #print(cat_yield)\n",
    "        table.append(cat_yield)\n",
    "        \n",
    "    print(tabulate(table,headers=['SRName']+Category,tablefmt='grid',numalign='left',floatfmt='.2f'))                  "
   ]
  },
  {
   "cell_type": "code",
   "execution_count": 19,
   "id": "739f5b97",
   "metadata": {},
   "outputs": [
    {
     "name": "stdout",
     "output_type": "stream",
     "text": [
      "+----------+--------------+------------+--------------+--------------+-------------+---------------+\n",
      "| SRName   | 3L_onZ       | 3L_offZ    |  3L_noOOSF   | 2L1T_onZ     | 2L1T_offZ   | 2L1T_noOOSF   |\n",
      "+==========+==============+============+==============+==============+=============+===============+\n",
      "| SR1      | ('450', 387) | ('78', 56) | ('5.7', 6)   | ('180', 148) | ('73', 67)  | ('22', 14)    |\n",
      "+----------+--------------+------------+--------------+--------------+-------------+---------------+\n",
      "| SR2      | ('12.3', 12) | ('3.7', 1) | ('0.22', 1)  | ('2.0', 3)   | ('1.3', 0)  | ('0.36', 0)   |\n",
      "+----------+--------------+------------+--------------+--------------+-------------+---------------+\n",
      "| SR3      | ('1.1', 3)   | ('0.5', 0) | ('0.06', 0)  | ('0.04', 0)  | ('0', 0)    | ('0.12', 0)   |\n",
      "+----------+--------------+------------+--------------+--------------+-------------+---------------+\n",
      "| SR4      |              |            |              |              |             |               |\n",
      "+----------+--------------+------------+--------------+--------------+-------------+---------------+\n",
      "| SR5      |              |            |              |              |             |               |\n",
      "+----------+--------------+------------+--------------+--------------+-------------+---------------+\n",
      "| SR6      |              |            |              |              |             |               |\n",
      "+----------+--------------+------------+--------------+--------------+-------------+---------------+\n",
      "| SR7      |              |            |              |              |             |               |\n",
      "+----------+--------------+------------+--------------+--------------+-------------+---------------+\n",
      "| SR8      |              |            |              |              |             |               |\n",
      "+----------+--------------+------------+--------------+--------------+-------------+---------------+\n",
      "| SR9      |              |            |              |              |             |               |\n",
      "+----------+--------------+------------+--------------+--------------+-------------+---------------+\n",
      "| SR10     |              |            |              |              |             |               |\n",
      "+----------+--------------+------------+--------------+--------------+-------------+---------------+\n",
      "| SR11     |              |            |              |              |             |               |\n",
      "+----------+--------------+------------+--------------+--------------+-------------+---------------+\n",
      "| SR12     |              |            |              |              |             |               |\n",
      "+----------+--------------+------------+--------------+--------------+-------------+---------------+\n",
      "| SR13     |              |            |              |              |             |               |\n",
      "+----------+--------------+------------+--------------+--------------+-------------+---------------+\n",
      "| SR14     |              |            |              |              |             |               |\n",
      "+----------+--------------+------------+--------------+--------------+-------------+---------------+\n",
      "| SR15     |              |            |              |              |             |               |\n",
      "+----------+--------------+------------+--------------+--------------+-------------+---------------+\n",
      "| SR16     |              |            |              |              |             |               |\n",
      "+----------+--------------+------------+--------------+--------------+-------------+---------------+\n",
      "| SR17     |              |            |              |              |             |               |\n",
      "+----------+--------------+------------+--------------+--------------+-------------+---------------+\n",
      "| SR18     |              |            |              |              |             |               |\n",
      "+----------+--------------+------------+--------------+--------------+-------------+---------------+\n",
      "| SR19     |              |            |              |              |             |               |\n",
      "+----------+--------------+------------+--------------+--------------+-------------+---------------+\n",
      "| SR20     |              |            |              |              |             |               |\n",
      "+----------+--------------+------------+--------------+--------------+-------------+---------------+\n"
     ]
    }
   ],
   "source": [
    "#Category = ['3L_onZ','3L_offZ',' 3L_noOOSF','2L1T_onZ','2L1T_offZ','2L1T_noOOSF']\n",
    "printPaperTable(HTlep_table)"
   ]
  },
  {
   "cell_type": "code",
   "execution_count": 20,
   "id": "eb3d11b2",
   "metadata": {},
   "outputs": [],
   "source": [
    "def get_yield(info,nReg):\n",
    "    yield_table={}\n",
    "    for i in range(1,nReg+1):\n",
    "        yield_table['SR'+str(i)]={}\n",
    "        s=[]\n",
    "        b=[]\n",
    "        db=[]\n",
    "        obs=[]\n",
    "        for cat in Category:\n",
    "            for item in info:\n",
    "                a_=cat+'_'+'SR'+str(i)\n",
    "                b_=item[0]+'_'+item[1]\n",
    "                if a_==b_:\n",
    "                    s=signal['SR'+str(i)][1:]\n",
    "                    b.append(item[2])\n",
    "                    db.append(item[3][0])\n",
    "                    obs.append(item[4])\n",
    "                    \n",
    "        yield_table['SR'+str(i)]['s']=s\n",
    "        yield_table['SR'+str(i)]['b']=b\n",
    "        yield_table['SR'+str(i)]['db']=db\n",
    "        yield_table['SR'+str(i)]['obs']=obs\n",
    "     \n",
    "    #\n",
    "    return yield_table\n",
    "       "
   ]
  },
  {
   "cell_type": "code",
   "execution_count": 21,
   "id": "7742019c",
   "metadata": {},
   "outputs": [
    {
     "data": {
      "text/plain": [
       "{'SR1': {'s': [1052.1518011391163,\n",
       "   1271.1951884031296,\n",
       "   89.72086119651794,\n",
       "   2.3390568494796753,\n",
       "   16.38861957192421,\n",
       "   12.31105475127697],\n",
       "  'b': [450, 78, 5.7, 180, 73, 22],\n",
       "  'db': [50, 9, 1.4, 50, 20, 6],\n",
       "  'obs': [387, 56, 6, 148, 67, 14]},\n",
       " 'SR2': {'s': [32.68245121836662,\n",
       "   71.42546552419662,\n",
       "   3.034289002418518,\n",
       "   0.13957670331001282,\n",
       "   4.28344152122736,\n",
       "   3.478237308561802],\n",
       "  'b': [12.3, 3.7, 0.22, 2.0, 1.3, 0.36],\n",
       "  'db': [2.4, 0.9, 0.77, 1.0, 0.9, 0.73],\n",
       "  'obs': [12, 1, 1, 3, 0, 0]},\n",
       " 'SR3': {'s': [0.01,\n",
       "   2.363124430179596,\n",
       "   0.01,\n",
       "   0.01,\n",
       "   0.6185571551322937,\n",
       "   1.6280751824378967],\n",
       "  'b': [1.1, 0.5, 0.06, 0.04, 0, 0.12],\n",
       "  'db': [0.7, 0.7, 0.7, 0.71, 0.7, 0.71],\n",
       "  'obs': [3, 0, 0, 0, 0, 0]}}"
      ]
     },
     "execution_count": 21,
     "metadata": {},
     "output_type": "execute_result"
    }
   ],
   "source": [
    "yield_table=get_yield(HTlep_table,3)\n",
    "\n",
    "#print('signal  =',s)\n",
    "#print('bkg     =',b)\n",
    "#print('unc.bkg =',db)\n",
    "#print('obs     =',obs)\n",
    "\n",
    "yield_table"
   ]
  },
  {
   "cell_type": "markdown",
   "id": "fc58574a",
   "metadata": {},
   "source": [
    "# Statistical Combination"
   ]
  },
  {
   "cell_type": "code",
   "execution_count": 22,
   "id": "e1526627",
   "metadata": {},
   "outputs": [],
   "source": [
    "from ROOT import RooFit, RooStats, RooWorkspace, RooArgSet, RooRealVar\n",
    "from array import array\n",
    "\n",
    "def combLim(region):\n",
    "    \n",
    "    # Define the signal, the expected background, observation, and background efficiency\n",
    "    \n",
    "    signalFactor = 10\n",
    "    \n",
    "    s        = array('d',[i*signalFactor for i in region['s']])\n",
    "    mainMeas = array('d',region['obs'])   \n",
    "    bkgMeas  = array('d',region['b'])    \n",
    "    dbMeas   = array('d',region['db'])\n",
    "    \n",
    "   \n",
    "    \n",
    "    print(s)\n",
    "    print(mainMeas)\n",
    "    print(bkgMeas)\n",
    "    print(dbMeas)\n",
    "    \n",
    "    for i in range(6):\n",
    "        dbMeas[i] = dbMeas[i] / bkgMeas[i]\n",
    "\n",
    "    f = ROOT.RooStats.NumberCountingPdfFactory()\n",
    "    wspace = RooWorkspace()\n",
    "    f.AddModel(s, 6, wspace, \"TopLevelPdf\", \"masterSignal\")\n",
    "    f.AddData(mainMeas, bkgMeas, dbMeas, 6, wspace, \"ObservedNumberCountingData\")\n",
    "\n",
    "    # Uncomment to see structure of workspace\n",
    "    # wspace.Print()\n",
    "\n",
    "    # Define the null hypothesis for the calculator\n",
    "    mu = wspace.var(\"masterSignal\")\n",
    "    poi = RooArgSet(mu)\n",
    "    nullParams = RooArgSet(\"nullParams\")\n",
    "    nullParams.addClone(mu)\n",
    "    nullParams.setRealValue(\"masterSignal\", 0)\n",
    "\n",
    "    # Create a calculator for doing the hypothesis test\n",
    "    plc = RooStats.ProfileLikelihoodCalculator(wspace.data(\"ObservedNumberCountingData\"), wspace.pdf(\"TopLevelPdf\"), poi, 0.05, nullParams)\n",
    "\n",
    "    # Get confidence interval\n",
    "    paramsOfInterest = nullParams\n",
    "    plc.SetParameters(paramsOfInterest)\n",
    "    lrint = plc.GetInterval()\n",
    "    lrint.SetConfidenceLevel(0.95)\n",
    "\n",
    "    #Get upper and lower limits\n",
    "    print(\"lower limit on master signal =\", lrint.LowerLimit(mu))\n",
    "    print(\"upper limit on master signal =\", lrint.UpperLimit(mu))\n",
    "\n",
    "#if __name__ == \"__main__\":\n",
    "#    ROOT.gROOT.SetBatch(True)  # To run ROOT in batch mode (without graphical display)\n",
    "#    combLim()"
   ]
  },
  {
   "cell_type": "code",
   "execution_count": null,
   "id": "b450882c",
   "metadata": {},
   "outputs": [
    {
     "name": "stdout",
     "output_type": "stream",
     "text": [
      "array('d', [10521.518011391163, 12711.951884031296, 897.2086119651794, 23.390568494796753, 163.8861957192421, 123.1105475127697])\n",
      "array('d', [387.0, 56.0, 6.0, 148.0, 67.0, 14.0])\n",
      "array('d', [450.0, 78.0, 5.7, 180.0, 73.0, 22.0])\n",
      "array('d', [50.0, 9.0, 1.4, 50.0, 20.0, 6.0])\n"
     ]
    }
   ],
   "source": [
    "combLim(yield_table['SR1'])"
   ]
  },
  {
   "cell_type": "code",
   "execution_count": null,
   "id": "aa4f2c9a",
   "metadata": {},
   "outputs": [],
   "source": [
    "\n"
   ]
  },
  {
   "cell_type": "code",
   "execution_count": null,
   "id": "8fe37b89",
   "metadata": {},
   "outputs": [],
   "source": []
  },
  {
   "cell_type": "code",
   "execution_count": null,
   "id": "c99f97a3",
   "metadata": {},
   "outputs": [],
   "source": []
  }
 ],
 "metadata": {
  "kernelspec": {
   "display_name": "Python 3 (ipykernel)",
   "language": "python",
   "name": "python3"
  },
  "language_info": {
   "codemirror_mode": {
    "name": "ipython",
    "version": 3
   },
   "file_extension": ".py",
   "mimetype": "text/x-python",
   "name": "python",
   "nbconvert_exporter": "python",
   "pygments_lexer": "ipython3",
   "version": "3.8.17"
  }
 },
 "nbformat": 4,
 "nbformat_minor": 5
}
